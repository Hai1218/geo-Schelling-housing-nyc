{
 "cells": [
  {
   "cell_type": "code",
   "execution_count": 4,
   "id": "130eb414-c673-4098-9f25-d03a30b6a2a7",
   "metadata": {},
   "outputs": [],
   "source": [
    "import geopandas as gpd\n",
    "import numpy as np"
   ]
  },
  {
   "cell_type": "code",
   "execution_count": 6,
   "id": "71a0d4b9-e298-4cf8-8b5e-9dec93e5ee70",
   "metadata": {},
   "outputs": [],
   "source": [
    "shp_file_path = 'nyct2020.shp'\n",
    "shp_file = gpd.read_file(shp_file_path)"
   ]
  },
  {
   "cell_type": "code",
   "execution_count": 10,
   "id": "685020b7-5311-4307-90ca-23f4c765b1d5",
   "metadata": {},
   "outputs": [
    {
     "data": {
      "text/plain": [
       "['CTLabel',\n",
       " 'BoroCode',\n",
       " 'BoroName',\n",
       " 'CT2020',\n",
       " 'BoroCT2020',\n",
       " 'CDEligibil',\n",
       " 'NTAName',\n",
       " 'NTA2020',\n",
       " 'CDTA2020',\n",
       " 'CDTANAME',\n",
       " 'GEOID',\n",
       " 'PUMA',\n",
       " 'Shape_Leng',\n",
       " 'Shape_Area',\n",
       " 'geometry']"
      ]
     },
     "execution_count": 10,
     "metadata": {},
     "output_type": "execute_result"
    }
   ],
   "source": [
    "shp_file.columns.tolist()"
   ]
  },
  {
   "cell_type": "code",
   "execution_count": 14,
   "id": "6fa12478-42c6-4cb5-8c50-282da4c73ad3",
   "metadata": {},
   "outputs": [],
   "source": [
    "shp_file_new = shp_file[['GEOID', 'BoroCode', 'Shape_Leng','Shape_Area','geometry']]"
   ]
  },
  {
   "cell_type": "code",
   "execution_count": 15,
   "id": "34576ae0-8eb3-482f-8a8b-167cce7e6523",
   "metadata": {},
   "outputs": [],
   "source": [
    "shp_file_new.to_file('nyct2020.geojson', driver='GeoJSON')  "
   ]
  },
  {
   "cell_type": "code",
   "execution_count": null,
   "id": "dc5995d3-036d-4eb5-9dae-82f0bdbb130a",
   "metadata": {},
   "outputs": [],
   "source": []
  }
 ],
 "metadata": {
  "kernelspec": {
   "display_name": "Python 3 (ipykernel)",
   "language": "python",
   "name": "python3"
  },
  "language_info": {
   "codemirror_mode": {
    "name": "ipython",
    "version": 3
   },
   "file_extension": ".py",
   "mimetype": "text/x-python",
   "name": "python",
   "nbconvert_exporter": "python",
   "pygments_lexer": "ipython3",
   "version": "3.11.5"
  }
 },
 "nbformat": 4,
 "nbformat_minor": 5
}
